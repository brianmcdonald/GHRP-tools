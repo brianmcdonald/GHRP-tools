{
 "cells": [
  {
   "cell_type": "code",
   "execution_count": 11,
   "metadata": {},
   "outputs": [],
   "source": [
    "from os import listdir\n",
    "from os.path import isfile, join\n",
    "import os\n",
    "import glob\n",
    "import pandas as pd\n",
    "import openpyxl"
   ]
  },
  {
   "cell_type": "code",
   "execution_count": null,
   "metadata": {},
   "outputs": [],
   "source": [
    "# file locations, replace as required and ensure the template file of headers is present \n",
    "responsefolder = r\"C:\\Users\\bmcdonald\\International Organization for Migration - IOM\\PRD - Documents\\03 Crisis Response\\15 2020_COVID-19\\01 Appeals\\Global HRP\\Monitoring Framework\\Responses from Missions\"\n",
    "homefolder = r\"C:\\Users\\bmcdonald\\Code\\GHRP-tools\"\n",
    "\n",
    "writer = pd.ExcelWriter('round5-temp.xlsx', engine = 'openpyxl')\n",
    "files = os.listdir(responsefolder)\n",
    "os.chdir(homefolder)\n",
    "\n",
    "template = pd.DataFrame.from_dict({'Country': {}, '#': {}, 'Indicator': {}, 'Reporting Period \\n(Start)': {}, 'Reporting Period \\n(End)': {}, 'Target': {}, 'Reporting number \\n(Individuals/areas)': {}, 'Reporting number \\n(Households)': {}, 'Children Female\\n(0-5)': {}, 'Children Male\\n(0-5)': {}, 'Girls\\n(6-17)': {}, 'Boys\\n(6-17)': {}, 'Women\\n(18-59)': {}, 'Men\\n(18-59)': {}, 'Elderly Female\\n(60 and above)': {}, 'Elderly Male\\n(60 and above)': {}, 'Key Achievements by Indicator': {}, 'Comments': {}})\n",
    "\n",
    "master = template\n",
    "os.chdir(responsefolder)\n",
    "for f in files:\n",
    "    try:\n",
    "        data = pd.read_excel(f, 'Round 5', index_col=None, header=0)\n",
    "        country = f.split('- ' )[1]\n",
    "        data[\"Country\"] = country.split('.xl')[0]\n",
    "        master = master.append(data[0:7])\n",
    "    except:\n",
    "        print(f, 'error')    \n",
    "master = master.iloc[:, 0:18]\n",
    "\n",
    "os.chdir(homefolder)\n",
    "master.to_excel(writer, sheet_name='Round 5', index=False)\n",
    "writer.save()\n",
    "writer.close()\n",
    "print(\"Compilation of responses complete\")"
   ]
  }
 ],
 "metadata": {
  "kernelspec": {
   "display_name": "Python 3",
   "language": "python",
   "name": "python3"
  },
  "language_info": {
   "codemirror_mode": {
    "name": "ipython",
    "version": 3
   },
   "file_extension": ".py",
   "mimetype": "text/x-python",
   "name": "python",
   "nbconvert_exporter": "python",
   "pygments_lexer": "ipython3",
   "version": "3.9.1"
  }
 },
 "nbformat": 4,
 "nbformat_minor": 4
}
